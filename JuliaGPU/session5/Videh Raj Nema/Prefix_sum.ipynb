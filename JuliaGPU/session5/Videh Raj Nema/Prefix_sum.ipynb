{
  "nbformat": 4,
  "nbformat_minor": 0,
  "metadata": {
    "colab": {
      "name": "Prefix-sum.ipynb",
      "version": "0.3.2",
      "provenance": [],
      "collapsed_sections": []
    },
    "kernelspec": {
      "name": "julia-1.0",
      "display_name": "Julia 1.0"
    },
    "accelerator": "GPU"
  },
  "cells": [
    {
      "cell_type": "code",
      "metadata": {
        "id": "s-AuL-nNVGPX",
        "colab_type": "code",
        "outputId": "926daae6-4a8d-441b-c7b3-11b0d939029a",
        "colab": {
          "base_uri": "https://localhost:8080/",
          "height": 470
        }
      },
      "source": [
        "using Pkg\n",
        "Pkg.add(\"CuArrays\")\n",
        "Pkg.add(\"CUDAnative\")\n",
        "Pkg.add(\"CUDAdrv\")\n",
        "Pkg.add(\"BenchmarkTools\")\n",
        "Pkg.add(\"Test\")"
      ],
      "execution_count": 0,
      "outputs": [
        {
          "output_type": "stream",
          "text": [
            "\u001b[32m\u001b[1m  Updating\u001b[22m\u001b[39m registry at `~/.julia/registries/General`\n",
            "\u001b[32m\u001b[1m  Updating\u001b[22m\u001b[39m git-repo `https://github.com/JuliaRegistries/General.git`\n",
            "\u001b[2K\u001b[?25h\u001b[32m\u001b[1m Resolving\u001b[22m\u001b[39m package versions...\n",
            "\u001b[32m\u001b[1m  Updating\u001b[22m\u001b[39m `~/.julia/environments/v1.0/Project.toml`\n",
            "\u001b[90m [no changes]\u001b[39m\n",
            "\u001b[32m\u001b[1m  Updating\u001b[22m\u001b[39m `~/.julia/environments/v1.0/Manifest.toml`\n",
            "\u001b[90m [no changes]\u001b[39m\n",
            "\u001b[32m\u001b[1m Resolving\u001b[22m\u001b[39m package versions...\n",
            "\u001b[32m\u001b[1m  Updating\u001b[22m\u001b[39m `~/.julia/environments/v1.0/Project.toml`\n",
            "\u001b[90m [no changes]\u001b[39m\n",
            "\u001b[32m\u001b[1m  Updating\u001b[22m\u001b[39m `~/.julia/environments/v1.0/Manifest.toml`\n",
            "\u001b[90m [no changes]\u001b[39m\n",
            "\u001b[32m\u001b[1m Resolving\u001b[22m\u001b[39m package versions...\n",
            "\u001b[32m\u001b[1m  Updating\u001b[22m\u001b[39m `~/.julia/environments/v1.0/Project.toml`\n",
            "\u001b[90m [no changes]\u001b[39m\n",
            "\u001b[32m\u001b[1m  Updating\u001b[22m\u001b[39m `~/.julia/environments/v1.0/Manifest.toml`\n",
            "\u001b[90m [no changes]\u001b[39m\n",
            "\u001b[32m\u001b[1m Resolving\u001b[22m\u001b[39m package versions...\n",
            "\u001b[32m\u001b[1m  Updating\u001b[22m\u001b[39m `~/.julia/environments/v1.0/Project.toml`\n",
            "\u001b[90m [no changes]\u001b[39m\n",
            "\u001b[32m\u001b[1m  Updating\u001b[22m\u001b[39m `~/.julia/environments/v1.0/Manifest.toml`\n",
            "\u001b[90m [no changes]\u001b[39m\n",
            "\u001b[32m\u001b[1m Resolving\u001b[22m\u001b[39m package versions...\n",
            "\u001b[32m\u001b[1m  Updating\u001b[22m\u001b[39m `~/.julia/environments/v1.0/Project.toml`\n",
            "\u001b[90m [no changes]\u001b[39m\n",
            "\u001b[32m\u001b[1m  Updating\u001b[22m\u001b[39m `~/.julia/environments/v1.0/Manifest.toml`\n",
            "\u001b[90m [no changes]\u001b[39m\n"
          ],
          "name": "stdout"
        }
      ]
    },
    {
      "cell_type": "code",
      "metadata": {
        "id": "Sd1IJW1BKHTh",
        "colab_type": "code",
        "outputId": "cc55d4cd-e24f-4917-e12e-194184f7b68a",
        "colab": {
          "base_uri": "https://localhost:8080/",
          "height": 974
        }
      },
      "source": [
        "using CUDAnative, CUDAdrv, CuArrays, BenchmarkTools, Test"
      ],
      "execution_count": 0,
      "outputs": [
        {
          "output_type": "stream",
          "text": [
            "Internal error: encountered unexpected error in runtime:\n",
            "BoundsError(a=Array{Core.Compiler.BasicBlock, (32,)}[\n",
            "  Core.Compiler.BasicBlock(stmts=Core.Compiler.StmtRange(first=1, last=7), preds=Array{Int64, (1,)}[32], succs=Array{Int64, (1,)}[2]),\n",
            "  Core.Compiler.BasicBlock(stmts=Core.Compiler.StmtRange(first=8, last=14), preds=Array{Int64, (1,)}[1], succs=Array{Int64, (2,)}[5, 3]),\n",
            "  Core.Compiler.BasicBlock(stmts=Core.Compiler.StmtRange(first=15, last=20), preds=Array{Int64, (1,)}[2], succs=Array{Int64, (1,)}[4]),\n",
            "  Core.Compiler.BasicBlock(stmts=Core.Compiler.StmtRange(first=21, last=21), preds=Array{Int64, (1,)}[3], succs=Array{Int64, (1,)}[7]),\n",
            "  Core.Compiler.BasicBlock(stmts=Core.Compiler.StmtRange(first=22, last=28), preds=Array{Int64, (1,)}[2], succs=Array{Int64, (1,)}[6]),\n",
            "  Core.Compiler.BasicBlock(stmts=Core.Compiler.StmtRange(first=29, last=29), preds=Array{Int64, (1,)}[5], succs=Array{Int64, (1,)}[7]),\n",
            "  Core.Compiler.BasicBlock(stmts=Core.Compiler.StmtRange(first=30, last=47), preds=Array{Int64, (2,)}[4, 6], succs=Array{Int64, (2,)}[9, 8]),\n",
            "  Core.Compiler.BasicBlock(stmts=Core.Compiler.StmtRange(first=48, last=49), preds=Array{Int64, (1,)}[7], succs=Array{Int64, (0,)}[]),\n",
            "  Core.Compiler.BasicBlock(stmts=Core.Compiler.StmtRange(first=50, last=50), preds=Array{Int64, (1,)}[7], succs=Array{Int64, (1,)}[10]),\n",
            "  Core.Compiler.BasicBlock(stmts=Core.Compiler.StmtRange(first=51, last=52), preds=Array{Int64, (1,)}[9], succs=Array{Int64, (1,)}[11]),\n",
            "  Core.Compiler.BasicBlock(stmts=Core.Compiler.StmtRange(first=53, last=53), preds=Array{Int64, (1,)}[10], succs=Array{Int64, (1,)}[12]),\n",
            "  Core.Compiler.BasicBlock(stmts=Core.Compiler.StmtRange(first=54, last=54), preds=Array{Int64, (1,)}[11], succs=Array{Int64, (1,)}[13]),\n",
            "  Core.Compiler.BasicBlock(stmts=Core.Compiler.StmtRange(first=55, last=56), preds=Array{Int64, (1,)}[12], succs=Array{Int64, (1,)}[14]),\n",
            "  Core.Compiler.BasicBlock(stmts=Core.Compiler.StmtRange(first=57, last=65), preds=Array{Int64, (1,)}[13], succs=Array{Int64, (1,)}[15]),\n",
            "  Core.Compiler.BasicBlock(stmts=Core.Compiler.StmtRange(first=66, last=71), preds=Array{Int64, (1,)}[14], succs=Array{Int64, (2,)}[17, 16]),\n",
            "  Core.Compiler.BasicBlock(stmts=Core.Compiler.StmtRange(first=72, last=74), preds=Array{Int64, (1,)}[15], succs=Array{Int64, (0,)}[]),\n",
            "  Core.Compiler.BasicBlock(stmts=Core.Compiler.StmtRange(first=75, last=82), preds=Array{Int64, (1,)}[15], succs=Array{Int64, (2,)}[19, 18]),\n",
            "  Core.Compiler.BasicBlock(stmts=Core.Compiler.StmtRange(first=83, last=84), preds=Array{Int64, (1,)}[17], succs=Array{Int64, (0,)}[]),\n",
            "  Core.Compiler.BasicBlock(stmts=Core.Compiler.StmtRange(first=85, last=85), preds=Array{Int64, (1,)}[17], succs=Array{Int64, (1,)}[20]),\n",
            "  Core.Compiler.BasicBlock(stmts=Core.Compiler.StmtRange(first=86, last=87), preds=Array{Int64, (1,)}[19], succs=Array{Int64, (1,)}[21]),\n",
            "  Core.Compiler.BasicBlock(stmts=Core.Compiler.StmtRange(first=88, last=88), preds=Array{Int64, (1,)}[20], succs=Array{Int64, (1,)}[22]),\n",
            "  Core.Compiler.BasicBlock(stmts=Core.Compiler.StmtRange(first=89, last=89), preds=Array{Int64, (1,)}[21], succs=Array{Int64, (1,)}[23]),\n",
            "  Core.Compiler.BasicBlock(stmts=Core.Compiler.StmtRange(first=90, last=90), preds=Array{Int64, (1,)}[22], succs=Array{Int64, (1,)}[24]),\n",
            "  Core.Compiler.BasicBlock(stmts=Core.Compiler.StmtRange(first=91, last=92), preds=Array{Int64, (1,)}[23], succs=Array{Int64, (1,)}[25]),\n",
            "  Core.Compiler.BasicBlock(stmts=Core.Compiler.StmtRange(first=93, last=93), preds=Array{Int64, (1,)}[24], succs=Array{Int64, (1,)}[26]),\n",
            "  Core.Compiler.BasicBlock(stmts=Core.Compiler.StmtRange(first=94, last=94), preds=Array{Int64, (1,)}[25], succs=Array{Int64, (1,)}[27]),\n",
            "  Core.Compiler.BasicBlock(stmts=Core.Compiler.StmtRange(first=95, last=95), preds=Array{Int64, (1,)}[26], succs=Array{Int64, (2,)}[29, 28]),\n",
            "  Core.Compiler.BasicBlock(stmts=Core.Compiler.StmtRange(first=96, last=98), preds=Array{Int64, (1,)}[27], succs=Array{Int64, (0,)}[]),\n",
            "  Core.Compiler.BasicBlock(stmts=Core.Compiler.StmtRange(first=99, last=102), preds=Array{Int64, (1,)}[27], succs=Array{Int64, (2,)}[31, 30]),\n",
            "  Core.Compiler.BasicBlock(stmts=Core.Compiler.StmtRange(first=103, last=103), preds=Array{Int64, (1,)}[29], succs=Array{Int64, (1,)}[32]),\n",
            "  Core.Compiler.BasicBlock(stmts=Core.Compiler.StmtRange(first=104, last=104), preds=Array{Int64, (1,)}[29], succs=Array{Int64, (1,)}[32]),\n",
            "  Core.Compiler.BasicBlock(stmts=Core.Compiler.StmtRange(first=105, last=107), preds=Array{Int64, (2,)}[30, 31], succs=Array{Int64, (1,)}[1])], i=(0,))\n",
            "rec_backtrace at /buildworker/worker/package_linux64/build/src/stackwalk.c:94\n",
            "record_backtrace at /buildworker/worker/package_linux64/build/src/task.c:246\n",
            "jl_throw at /buildworker/worker/package_linux64/build/src/task.c:577\n",
            "jl_bounds_error_ints at /buildworker/worker/package_linux64/build/src/rtutils.c:187\n",
            "getindex at ./array.jl:731\n",
            "jfptr_getindex_1600.clone_1 at /usr/lib/julia/sys.so (unknown line)\n",
            "jl_apply_generic at /buildworker/worker/package_linux64/build/src/gf.c:2182\n",
            "replace_code_newstyle! at ./compiler/ssair/legacy.jl:80\n",
            "optimize at ./compiler/optimize.jl:208\n",
            "typeinf at ./compiler/typeinfer.jl:35\n",
            "typeinf_ext at ./compiler/typeinfer.jl:567\n",
            "typeinf_ext at ./compiler/typeinfer.jl:604\n",
            "jfptr_typeinf_ext_1.clone_1 at /usr/lib/julia/sys.so (unknown line)\n",
            "jl_apply_generic at /buildworker/worker/package_linux64/build/src/gf.c:2182\n",
            "jl_apply at /buildworker/worker/package_linux64/build/src/julia.h:1536 [inlined]\n",
            "jl_apply_with_saved_exception_state at /buildworker/worker/package_linux64/build/src/rtutils.c:257\n",
            "jl_type_infer at /buildworker/worker/package_linux64/build/src/gf.c:275\n",
            "jl_compile_method_internal at /buildworker/worker/package_linux64/build/src/gf.c:1784 [inlined]\n",
            "jl_fptr_trampoline at /buildworker/worker/package_linux64/build/src/gf.c:1828\n",
            "jl_apply_generic at /buildworker/worker/package_linux64/build/src/gf.c:2182\n",
            "jl_apply at /buildworker/worker/package_linux64/build/src/julia.h:1536 [inlined]\n",
            "start_task at /buildworker/worker/package_linux64/build/src/task.c:268\n",
            "unknown function (ip: 0xffffffffffffffff)\n"
          ],
          "name": "stderr"
        }
      ]
    },
    {
      "cell_type": "code",
      "metadata": {
        "id": "1mkNcIBFoX1M",
        "colab_type": "code",
        "outputId": "47f76d4e-7c5f-4e72-bea1-254c44b997a3",
        "colab": {
          "base_uri": "https://localhost:8080/",
          "height": 34
        }
      },
      "source": [
        "function parallel_red!(a,temp)\n",
        "  idx=threadIdx().x\n",
        "  if idx <= min(blockDim().x,size(a,1))\n",
        "  step=1\n",
        "  \n",
        "  chunk=ceil(Int,size(a,1)/blockDim().x)\n",
        "  \n",
        "  while step < size(a,1)   #size(a,1)\n",
        "  \n",
        "    for i=1:chunk\n",
        "      k = i + (idx-1)*chunk\n",
        "      if(k<=size(a,1))\n",
        "        @inbounds temp[k]=a[k]\n",
        "      end\n",
        "    end\n",
        "   \n",
        "   sync_threads()\n",
        "   \n",
        "    for i=1:chunk\n",
        "      k = i + (idx-1)*chunk\n",
        "        if(k<=size(a,1) && (k % size(a,1) > step || k % size(a,1)==0))\n",
        "          temp[k]=a[k]+a[k-step]    \n",
        "        end\n",
        "    end\n",
        "    \n",
        "  sync_threads()\n",
        "     \n",
        "   for i=1:chunk\n",
        "      k = i + (idx-1)*chunk\n",
        "      if(k<=size(a,1))\n",
        "        @inbounds a[k]=temp[k]\n",
        "      end\n",
        "   end\n",
        "  \n",
        "  sync_threads()\n",
        "  \n",
        "  \n",
        "  step*=2\n",
        "  end  #while loop\n",
        "  \n",
        "    \n",
        "end  #upper if\n",
        "return nothing\n",
        "end"
      ],
      "execution_count": 0,
      "outputs": [
        {
          "output_type": "execute_result",
          "data": {
            "text/plain": [
              "parallel_red! (generic function with 1 method)"
            ]
          },
          "metadata": {
            "tags": []
          },
          "execution_count": 3
        }
      ]
    },
    {
      "cell_type": "code",
      "metadata": {
        "id": "WECAolNxoobr",
        "colab_type": "code",
        "outputId": "8f6e30d6-43df-480f-ab5a-039ce339f1e6",
        "colab": {
          "base_uri": "https://localhost:8080/",
          "height": 470
        }
      },
      "source": [
        "n=1000000\n",
        "t=500 # t is number of threads to be launched HERE IF I KEEP t=500 THEN IT IS FINE BUT IF INCREASE THEN THAT SAME ERROR- TOO MANY RESOURCES REQUESTED FOR LAUNCH\n",
        "h_a=rand(n)\n",
        "h_temp=zeros(t*ceil(Int,size(h_a,1)/t))"
      ],
      "execution_count": 0,
      "outputs": [
        {
          "output_type": "execute_result",
          "data": {
            "text/plain": [
              "1000000-element Array{Float64,1}:\n",
              " 0.0\n",
              " 0.0\n",
              " 0.0\n",
              " 0.0\n",
              " 0.0\n",
              " 0.0\n",
              " 0.0\n",
              " 0.0\n",
              " 0.0\n",
              " 0.0\n",
              " 0.0\n",
              " 0.0\n",
              " 0.0\n",
              " ⋮  \n",
              " 0.0\n",
              " 0.0\n",
              " 0.0\n",
              " 0.0\n",
              " 0.0\n",
              " 0.0\n",
              " 0.0\n",
              " 0.0\n",
              " 0.0\n",
              " 0.0\n",
              " 0.0\n",
              " 0.0"
            ]
          },
          "metadata": {
            "tags": []
          },
          "execution_count": 4
        }
      ]
    },
    {
      "cell_type": "code",
      "metadata": {
        "id": "sfiOqVURH1h8",
        "colab_type": "code",
        "colab": {}
      },
      "source": [
        "d_a=CuArray(h_a)\n",
        "d_temp=CuArray(h_temp)\n",
        "@cuda threads=t parallel_red!(d_a,d_temp)"
      ],
      "execution_count": 0,
      "outputs": []
    },
    {
      "cell_type": "code",
      "metadata": {
        "id": "fgsznffzor7J",
        "colab_type": "code",
        "outputId": "b810ae8e-4f0e-4b2b-98ca-e5a75cd5ab57",
        "colab": {
          "base_uri": "https://localhost:8080/",
          "height": 470
        }
      },
      "source": [
        "h_a1=Array(d_a)\n",
        "h_a1"
      ],
      "execution_count": 0,
      "outputs": [
        {
          "output_type": "execute_result",
          "data": {
            "text/plain": [
              "1000000-element Array{Float64,1}:\n",
              "      0.5852986923815144\n",
              "      1.1517334544663003\n",
              "      1.3371990086166887\n",
              "      1.914367907290707 \n",
              "      2.3479222687596453\n",
              "      2.4695013700801365\n",
              "      2.9171237983159113\n",
              "      3.2674334658474207\n",
              "      3.550139729967963 \n",
              "      4.001861869307547 \n",
              "      4.726531133102291 \n",
              "      5.480873517901575 \n",
              "      6.445129345473139 \n",
              "      ⋮                 \n",
              " 499918.51683153154     \n",
              " 499919.2482709616      \n",
              " 499919.54023765953     \n",
              " 499919.57160999975     \n",
              " 499920.11495942704     \n",
              " 499920.1916015734      \n",
              " 499920.8207648557      \n",
              " 499921.068018122       \n",
              " 499921.7116014669      \n",
              " 499922.3451446641      \n",
              " 499922.931177265       \n",
              " 499923.01404396485     "
            ]
          },
          "metadata": {
            "tags": []
          },
          "execution_count": 6
        }
      ]
    },
    {
      "cell_type": "code",
      "metadata": {
        "id": "9w_honDgpSho",
        "colab_type": "code",
        "outputId": "059ac037-200e-4782-b7ae-ee469a904ecb",
        "colab": {
          "base_uri": "https://localhost:8080/",
          "height": 34
        }
      },
      "source": [
        "function seq_red!(a)\n",
        "  for i=2:size(a,1)\n",
        "    a[i]+=a[i-1]\n",
        "  end\n",
        "  return a\n",
        "end"
      ],
      "execution_count": 0,
      "outputs": [
        {
          "output_type": "execute_result",
          "data": {
            "text/plain": [
              "seq_red! (generic function with 1 method)"
            ]
          },
          "metadata": {
            "tags": []
          },
          "execution_count": 7
        }
      ]
    },
    {
      "cell_type": "code",
      "metadata": {
        "id": "j1OrAJUNTzlA",
        "colab_type": "code",
        "outputId": "4a15db66-5bdd-4232-ee5f-8b26343f7815",
        "colab": {
          "base_uri": "https://localhost:8080/",
          "height": 470
        }
      },
      "source": [
        "sequential_array=seq_red!(h_a)"
      ],
      "execution_count": 0,
      "outputs": [
        {
          "output_type": "execute_result",
          "data": {
            "text/plain": [
              "1000000-element Array{Float64,1}:\n",
              "      0.5852986923815144\n",
              "      1.1517334544663003\n",
              "      1.3371990086166887\n",
              "      1.914367907290707 \n",
              "      2.3479222687596453\n",
              "      2.4695013700801365\n",
              "      2.9171237983159117\n",
              "      3.2674334658474207\n",
              "      3.550139729967963 \n",
              "      4.001861869307547 \n",
              "      4.726531133102291 \n",
              "      5.480873517901575 \n",
              "      6.4451293454731395\n",
              "      ⋮                 \n",
              " 499918.5168315329      \n",
              " 499919.2482709629      \n",
              " 499919.54023766087     \n",
              " 499919.5716100011      \n",
              " 499920.1149594283      \n",
              " 499920.1916015747      \n",
              " 499920.820764857       \n",
              " 499921.0680181232      \n",
              " 499921.71160146815     \n",
              " 499922.34514466545     \n",
              " 499922.9311772663      \n",
              " 499923.0140439662      "
            ]
          },
          "metadata": {
            "tags": []
          },
          "execution_count": 8
        }
      ]
    },
    {
      "cell_type": "code",
      "metadata": {
        "id": "Q8ZL_6joT2OI",
        "colab_type": "code",
        "outputId": "9586d499-d8a3-42e7-9b8e-ebc3bcb99c36",
        "colab": {
          "base_uri": "https://localhost:8080/",
          "height": 34
        }
      },
      "source": [
        "@test isapprox(sequential_array,h_a1)"
      ],
      "execution_count": 0,
      "outputs": [
        {
          "output_type": "execute_result",
          "data": {
            "text/plain": [
              "\u001b[32m\u001b[1mTest Passed\u001b[22m\u001b[39m"
            ]
          },
          "metadata": {
            "tags": []
          },
          "execution_count": 9
        }
      ]
    },
    {
      "cell_type": "code",
      "metadata": {
        "id": "2N5ibT6hUBFo",
        "colab_type": "code",
        "outputId": "f8bf32c9-d9ce-47c5-b0bc-78d2822f6fb2",
        "colab": {
          "base_uri": "https://localhost:8080/",
          "height": 202
        }
      },
      "source": [
        "@benchmark sequential_array=seq_red!(h_a)"
      ],
      "execution_count": 0,
      "outputs": [
        {
          "output_type": "execute_result",
          "data": {
            "text/plain": [
              "BenchmarkTools.Trial: \n",
              "  memory estimate:  0 bytes\n",
              "  allocs estimate:  0\n",
              "  --------------\n",
              "  minimum time:     2.861 ms (0.00% GC)\n",
              "  median time:      2.896 ms (0.00% GC)\n",
              "  mean time:        2.944 ms (0.00% GC)\n",
              "  maximum time:     3.846 ms (0.00% GC)\n",
              "  --------------\n",
              "  samples:          1695\n",
              "  evals/sample:     1"
            ]
          },
          "metadata": {
            "tags": []
          },
          "execution_count": 10
        }
      ]
    },
    {
      "cell_type": "code",
      "metadata": {
        "id": "9XGzw3sVo8SA",
        "colab_type": "code",
        "outputId": "3cf21209-2e09-42e5-be37-b36c72da4329",
        "colab": {
          "base_uri": "https://localhost:8080/",
          "height": 202
        }
      },
      "source": [
        "@benchmark @cuda threads=t parallel_red!(d_a,d_temp)"
      ],
      "execution_count": 0,
      "outputs": [
        {
          "output_type": "execute_result",
          "data": {
            "text/plain": [
              "BenchmarkTools.Trial: \n",
              "  memory estimate:  1.70 KiB\n",
              "  allocs estimate:  52\n",
              "  --------------\n",
              "  minimum time:     20.357 μs (0.00% GC)\n",
              "  median time:      156.707 ms (0.00% GC)\n",
              "  mean time:        143.513 ms (0.00% GC)\n",
              "  maximum time:     156.803 ms (0.00% GC)\n",
              "  --------------\n",
              "  samples:          35\n",
              "  evals/sample:     1"
            ]
          },
          "metadata": {
            "tags": []
          },
          "execution_count": 11
        }
      ]
    }
  ]
}