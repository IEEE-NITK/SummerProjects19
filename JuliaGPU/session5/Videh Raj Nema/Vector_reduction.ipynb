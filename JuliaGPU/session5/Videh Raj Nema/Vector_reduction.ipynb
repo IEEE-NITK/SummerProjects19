{
  "nbformat": 4,
  "nbformat_minor": 0,
  "metadata": {
    "colab": {
      "name": "Copy of vector-reduce.ipynb",
      "version": "0.3.2",
      "provenance": [],
      "collapsed_sections": []
    },
    "kernelspec": {
      "name": "julia-1.0",
      "display_name": "Julia 1.0"
    },
    "accelerator": "GPU"
  },
  "cells": [
    {
      "cell_type": "code",
      "metadata": {
        "id": "s-AuL-nNVGPX",
        "colab_type": "code",
        "outputId": "8c71335d-7732-4776-e07a-7a28d4d9073e",
        "colab": {
          "base_uri": "https://localhost:8080/",
          "height": 487
        }
      },
      "source": [
        "using Pkg\n",
        "Pkg.add(\"CuArrays\")\n",
        "Pkg.add(\"CUDAnative\")\n",
        "Pkg.add(\"CUDAdrv\")\n",
        "Pkg.add(\"BenchmarkTools\")\n",
        "Pkg.add(\"Test\")"
      ],
      "execution_count": 1,
      "outputs": [
        {
          "output_type": "stream",
          "text": [
            "\u001b[32m\u001b[1m  Updating\u001b[22m\u001b[39m registry at `~/.julia/registries/General`\n",
            "\u001b[32m\u001b[1m  Updating\u001b[22m\u001b[39m git-repo `https://github.com/JuliaRegistries/General.git`\n",
            "\u001b[?25l\u001b[2K\u001b[?25h\u001b[32m\u001b[1m Resolving\u001b[22m\u001b[39m package versions...\n",
            "\u001b[32m\u001b[1m  Updating\u001b[22m\u001b[39m `~/.julia/environments/v1.0/Project.toml`\n",
            "\u001b[90m [no changes]\u001b[39m\n",
            "\u001b[32m\u001b[1m  Updating\u001b[22m\u001b[39m `~/.julia/environments/v1.0/Manifest.toml`\n",
            "\u001b[90m [no changes]\u001b[39m\n",
            "\u001b[32m\u001b[1m Resolving\u001b[22m\u001b[39m package versions...\n",
            "\u001b[32m\u001b[1m  Updating\u001b[22m\u001b[39m `~/.julia/environments/v1.0/Project.toml`\n",
            " \u001b[90m [be33ccc6]\u001b[39m\u001b[92m + CUDAnative v2.1.3\u001b[39m\n",
            "\u001b[32m\u001b[1m  Updating\u001b[22m\u001b[39m `~/.julia/environments/v1.0/Manifest.toml`\n",
            "\u001b[90m [no changes]\u001b[39m\n",
            "\u001b[32m\u001b[1m Resolving\u001b[22m\u001b[39m package versions...\n",
            "\u001b[32m\u001b[1m  Updating\u001b[22m\u001b[39m `~/.julia/environments/v1.0/Project.toml`\n",
            " \u001b[90m [c5f51814]\u001b[39m\u001b[92m + CUDAdrv v3.0.1\u001b[39m\n",
            "\u001b[32m\u001b[1m  Updating\u001b[22m\u001b[39m `~/.julia/environments/v1.0/Manifest.toml`\n",
            "\u001b[90m [no changes]\u001b[39m\n",
            "\u001b[32m\u001b[1m Resolving\u001b[22m\u001b[39m package versions...\n",
            "\u001b[32m\u001b[1m Installed\u001b[22m\u001b[39m BenchmarkTools ─ v0.4.2\n",
            "\u001b[32m\u001b[1m  Updating\u001b[22m\u001b[39m `~/.julia/environments/v1.0/Project.toml`\n",
            " \u001b[90m [6e4b80f9]\u001b[39m\u001b[92m + BenchmarkTools v0.4.2\u001b[39m\n",
            "\u001b[32m\u001b[1m  Updating\u001b[22m\u001b[39m `~/.julia/environments/v1.0/Manifest.toml`\n",
            " \u001b[90m [6e4b80f9]\u001b[39m\u001b[92m + BenchmarkTools v0.4.2\u001b[39m\n",
            "\u001b[32m\u001b[1m Resolving\u001b[22m\u001b[39m package versions...\n",
            "\u001b[32m\u001b[1m  Updating\u001b[22m\u001b[39m `~/.julia/environments/v1.0/Project.toml`\n",
            " \u001b[90m [8dfed614]\u001b[39m\u001b[92m + Test \u001b[39m\n",
            "\u001b[32m\u001b[1m  Updating\u001b[22m\u001b[39m `~/.julia/environments/v1.0/Manifest.toml`\n",
            "\u001b[90m [no changes]\u001b[39m\n"
          ],
          "name": "stdout"
        }
      ]
    },
    {
      "cell_type": "code",
      "metadata": {
        "id": "Sd1IJW1BKHTh",
        "colab_type": "code",
        "colab": {}
      },
      "source": [
        "using CUDAnative, CUDAdrv, CuArrays, BenchmarkTools, Test"
      ],
      "execution_count": 0,
      "outputs": []
    },
    {
      "cell_type": "code",
      "metadata": {
        "id": "1mkNcIBFoX1M",
        "colab_type": "code",
        "outputId": "274a03c2-fcab-4c11-c1d0-a600ed610122",
        "colab": {
          "base_uri": "https://localhost:8080/",
          "height": 34
        }
      },
      "source": [
        "function parallel_red!(a)\n",
        "  idx=threadIdx().x + (blockIdx().x-1)*blockDim().x\n",
        "  if idx <= size(a,1)\n",
        "  step=1\n",
        "  while step < blockDim().x   #size(a,1)\n",
        "    @inbounds temp=a[idx]\n",
        "    if(idx % 1024 > step || idx % 1024==0)\n",
        "      temp=a[idx]+a[idx-step]       # using @inbounds here leads to test fail\n",
        "    end\n",
        "   sync_threads()\n",
        "    @inbounds a[idx]=temp\n",
        "  step*=2\n",
        "  end\n",
        "  if(threadIdx().x==blockDim().x && idx!=size(a,1))\n",
        "  #@cuprintf(\"%ld\\n\",idx)\n",
        "  @inbounds @atomic a[size(a,1)]+=a[idx]\n",
        "  end\n",
        "\n",
        " end\n",
        "return nothing\n",
        "end"
      ],
      "execution_count": 48,
      "outputs": [
        {
          "output_type": "execute_result",
          "data": {
            "text/plain": [
              "parallel_red! (generic function with 1 method)"
            ]
          },
          "metadata": {
            "tags": []
          },
          "execution_count": 48
        }
      ]
    },
    {
      "cell_type": "code",
      "metadata": {
        "id": "WECAolNxoobr",
        "colab_type": "code",
        "outputId": "9ddff18e-cf7f-4736-ca0e-a26819145429",
        "colab": {
          "base_uri": "https://localhost:8080/",
          "height": 470
        }
      },
      "source": [
        "n=10000\n",
        "h_a=rand(n)"
      ],
      "execution_count": 49,
      "outputs": [
        {
          "output_type": "execute_result",
          "data": {
            "text/plain": [
              "10000-element Array{Float64,1}:\n",
              " 0.14714067596544544 \n",
              " 0.9685932647201392  \n",
              " 0.8289172479035676  \n",
              " 0.2404610794571589  \n",
              " 0.7314396702590722  \n",
              " 0.7113536061164283  \n",
              " 0.023286003661288524\n",
              " 0.570298742958032   \n",
              " 0.8308083048299664  \n",
              " 0.9224917555232828  \n",
              " 0.5262472118759918  \n",
              " 0.30524560849678606 \n",
              " 0.3198130086054647  \n",
              " ⋮                   \n",
              " 0.9676667239936336  \n",
              " 0.6711975280432456  \n",
              " 0.9149832520873205  \n",
              " 0.01685754782768356 \n",
              " 0.8958338627259914  \n",
              " 0.32309938610343103 \n",
              " 0.18200116927003895 \n",
              " 0.3544937777365278  \n",
              " 0.29013871732625285 \n",
              " 0.2632197315594995  \n",
              " 0.08916474828985033 \n",
              " 0.5963152696131351  "
            ]
          },
          "metadata": {
            "tags": []
          },
          "execution_count": 49
        }
      ]
    },
    {
      "cell_type": "code",
      "metadata": {
        "id": "sfiOqVURH1h8",
        "colab_type": "code",
        "colab": {}
      },
      "source": [
        "d_a=CuArray(h_a)\n",
        "@cuda blocks=Int(ceil(n/1024)) threads=1024 parallel_red!(d_a)"
      ],
      "execution_count": 0,
      "outputs": []
    },
    {
      "cell_type": "code",
      "metadata": {
        "id": "fgsznffzor7J",
        "colab_type": "code",
        "outputId": "34fdcd06-f9f4-432f-99ae-0beab122d7da",
        "colab": {
          "base_uri": "https://localhost:8080/",
          "height": 470
        }
      },
      "source": [
        "h_a1=Array(d_a)\n",
        "h_a1"
      ],
      "execution_count": 51,
      "outputs": [
        {
          "output_type": "execute_result",
          "data": {
            "text/plain": [
              "10000-element Array{Float64,1}:\n",
              "    0.14714067596544544\n",
              "    1.1157339406855846 \n",
              "    1.9446511885891522 \n",
              "    2.185112268046311  \n",
              "    2.9165519383053837 \n",
              "    3.6279055444218113 \n",
              "    3.6511915480831    \n",
              "    4.221490291041132  \n",
              "    5.052298595871099  \n",
              "    5.974790351394381  \n",
              "    6.501037563270373  \n",
              "    6.806283171767159  \n",
              "    7.126096180372624  \n",
              "    ⋮                  \n",
              "  380.70847405381073   \n",
              "  381.3796715818539    \n",
              "  382.2946548339413    \n",
              "  382.3115123817689    \n",
              "  383.20734624449494   \n",
              "  383.53044563059836   \n",
              "  383.7124467998684    \n",
              "  384.06694057760495   \n",
              "  384.3570792949312    \n",
              "  384.62029902649067   \n",
              "  384.7094637747806    \n",
              " 4993.198149163269     "
            ]
          },
          "metadata": {
            "tags": []
          },
          "execution_count": 51
        }
      ]
    },
    {
      "cell_type": "code",
      "metadata": {
        "id": "9w_honDgpSho",
        "colab_type": "code",
        "outputId": "ac3304c2-17b8-4ece-9200-64d2a39b9896",
        "colab": {
          "base_uri": "https://localhost:8080/",
          "height": 34
        }
      },
      "source": [
        "function seq_red(a)\n",
        "  count=0\n",
        "  for i=1:size(a,1)\n",
        "    count+=a[i]\n",
        "   end\n",
        "   return count\n",
        "end"
      ],
      "execution_count": 52,
      "outputs": [
        {
          "output_type": "execute_result",
          "data": {
            "text/plain": [
              "seq_red (generic function with 1 method)"
            ]
          },
          "metadata": {
            "tags": []
          },
          "execution_count": 52
        }
      ]
    },
    {
      "cell_type": "code",
      "metadata": {
        "id": "j1OrAJUNTzlA",
        "colab_type": "code",
        "outputId": "63016091-8a4b-46a3-8d07-8d325ac0165b",
        "colab": {
          "base_uri": "https://localhost:8080/",
          "height": 34
        }
      },
      "source": [
        "sequential_sum=seq_red(h_a)"
      ],
      "execution_count": 53,
      "outputs": [
        {
          "output_type": "execute_result",
          "data": {
            "text/plain": [
              "4993.198149163243"
            ]
          },
          "metadata": {
            "tags": []
          },
          "execution_count": 53
        }
      ]
    },
    {
      "cell_type": "code",
      "metadata": {
        "id": "Q8ZL_6joT2OI",
        "colab_type": "code",
        "outputId": "e69e9bfc-4cf3-49a5-cbfe-f1c0738a4e72",
        "colab": {
          "base_uri": "https://localhost:8080/",
          "height": 34
        }
      },
      "source": [
        "@test isapprox(sequential_sum,h_a1[size(h_a,1)])"
      ],
      "execution_count": 54,
      "outputs": [
        {
          "output_type": "execute_result",
          "data": {
            "text/plain": [
              "\u001b[32m\u001b[1mTest Passed\u001b[22m\u001b[39m"
            ]
          },
          "metadata": {
            "tags": []
          },
          "execution_count": 54
        }
      ]
    },
    {
      "cell_type": "code",
      "metadata": {
        "id": "2N5ibT6hUBFo",
        "colab_type": "code",
        "outputId": "22c5d8be-9474-4c98-a0c8-614db3ccac2f",
        "colab": {
          "base_uri": "https://localhost:8080/",
          "height": 202
        }
      },
      "source": [
        "@benchmark sequential_sum=seq_red(h_a)"
      ],
      "execution_count": 55,
      "outputs": [
        {
          "output_type": "execute_result",
          "data": {
            "text/plain": [
              "BenchmarkTools.Trial: \n",
              "  memory estimate:  16 bytes\n",
              "  allocs estimate:  1\n",
              "  --------------\n",
              "  minimum time:     12.348 μs (0.00% GC)\n",
              "  median time:      12.740 μs (0.00% GC)\n",
              "  mean time:        13.222 μs (0.00% GC)\n",
              "  maximum time:     33.333 μs (0.00% GC)\n",
              "  --------------\n",
              "  samples:          10000\n",
              "  evals/sample:     1"
            ]
          },
          "metadata": {
            "tags": []
          },
          "execution_count": 55
        }
      ]
    },
    {
      "cell_type": "code",
      "metadata": {
        "id": "9XGzw3sVo8SA",
        "colab_type": "code",
        "outputId": "09f630cf-b0d5-4ab3-ce65-1b55b09e8be0",
        "colab": {
          "base_uri": "https://localhost:8080/",
          "height": 202
        }
      },
      "source": [
        "@benchmark @cuda blocks=Int(ceil(n/1024)) threads=1024 parallel_red!(d_a)"
      ],
      "execution_count": 56,
      "outputs": [
        {
          "output_type": "execute_result",
          "data": {
            "text/plain": [
              "BenchmarkTools.Trial: \n",
              "  memory estimate:  912 bytes\n",
              "  allocs estimate:  34\n",
              "  --------------\n",
              "  minimum time:     8.989 μs (0.00% GC)\n",
              "  median time:      10.655 μs (0.00% GC)\n",
              "  mean time:        11.312 μs (0.00% GC)\n",
              "  maximum time:     185.549 μs (0.00% GC)\n",
              "  --------------\n",
              "  samples:          10000\n",
              "  evals/sample:     1"
            ]
          },
          "metadata": {
            "tags": []
          },
          "execution_count": 56
        }
      ]
    },
    {
      "cell_type": "code",
      "metadata": {
        "id": "TvrEX2vX-fPL",
        "colab_type": "code",
        "colab": {}
      },
      "source": [
        ""
      ],
      "execution_count": 0,
      "outputs": []
    }
  ]
}