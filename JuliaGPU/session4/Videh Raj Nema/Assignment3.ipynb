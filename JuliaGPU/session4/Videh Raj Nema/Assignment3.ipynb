{
  "nbformat": 4,
  "nbformat_minor": 0,
  "metadata": {
    "colab": {
      "name": "juliaGPU-intro.ipynb",
      "version": "0.3.2",
      "provenance": []
    },
    "kernelspec": {
      "name": "julia-1.0",
      "display_name": "Julia 1.0"
    },
    "accelerator": "GPU"
  },
  "cells": [
    {
      "cell_type": "code",
      "metadata": {
        "id": "_6KOgN-YM-uO",
        "colab_type": "code",
        "colab": {
          "base_uri": "https://localhost:8080/",
          "height": 539
        },
        "outputId": "0b78c279-33dc-4fda-b8a4-3dee5998e63c"
      },
      "source": [
        "#program to compare matrix multiplication using sequential and parallel methods\n",
        "\n",
        "using Pkg\n",
        "Pkg.add(\"CUDAnative\")\n",
        "Pkg.add(\"CuArrays\")\n",
        "Pkg.add(\"CUDAdrv\")\n",
        "Pkg.add(\"BenchmarkTools\")\n",
        "Pkg.add(\"Test\")\n",
        "\n",
        "using CUDAnative,CuArrays,CUDAdrv,BenchmarkTools,Test\n",
        "\n",
        "n=parse(Int64,readline())\n",
        "a=rand(Float32,n,n)\n",
        "b=rand(Float32,n,n)\n",
        "c1=zeros(Float32,n,n)\n",
        "c2=zeros(Float32,n,n)\n",
        "\n",
        "#function to calculate matrix multiplication using sequential code\n",
        "\n",
        "function mult_seq!(a,b,c,n)\n",
        "for i=1:n\n",
        "        for j=1:n\n",
        "            x=0;\n",
        "            for k=1:n\n",
        "                  x=x+a[(k-1)*n+i]*b[(j-1)*n+k]\n",
        "            end\n",
        "            c[i+(j-1)*n]=x;\n",
        "        end\n",
        "    end\n",
        "end\n",
        "\n",
        "@btime mult_seq!(a,b,c1,n)\n",
        "\n",
        "#function to calculate matrix multiplication using parallel code\n",
        "\n",
        "function mult_par!(a,b,c,n)\n",
        "tidx=threadIdx().x\n",
        "bidx=blockIdx().x\n",
        "sum=0\n",
        "for i=1:n\n",
        "sum=sum+a[i+(n-1)*(i-1)+(bidx-1)]*b[i+n*(tidx-1)]\n",
        "end\n",
        "c[bidx+(tidx-1)*n]=sum\n",
        "return\n",
        "end\n",
        "\n",
        "d_a=CuArray(a)\n",
        "d_b=CuArray(b)\n",
        "d_c=CuArray(c2)\n",
        "@btime @cuda blocks=n threads=n mult_par!(d_a,d_b,d_c,n)\n",
        "\n",
        "h_c2=Array(d_c)\n",
        "\n",
        "@test isapprox(c1,h_c2)"
      ],
      "execution_count": 85,
      "outputs": [
        {
          "output_type": "stream",
          "text": [
            "\u001b[32m\u001b[1m Resolving\u001b[22m\u001b[39m package versions...\n",
            "\u001b[32m\u001b[1m  Updating\u001b[22m\u001b[39m `~/.julia/environments/v1.0/Project.toml`\n",
            "\u001b[90m [no changes]\u001b[39m\n",
            "\u001b[32m\u001b[1m  Updating\u001b[22m\u001b[39m `~/.julia/environments/v1.0/Manifest.toml`\n",
            "\u001b[90m [no changes]\u001b[39m\n",
            "\u001b[32m\u001b[1m Resolving\u001b[22m\u001b[39m package versions...\n",
            "\u001b[32m\u001b[1m  Updating\u001b[22m\u001b[39m `~/.julia/environments/v1.0/Project.toml`\n",
            "\u001b[90m [no changes]\u001b[39m\n",
            "\u001b[32m\u001b[1m  Updating\u001b[22m\u001b[39m `~/.julia/environments/v1.0/Manifest.toml`\n",
            "\u001b[90m [no changes]\u001b[39m\n",
            "\u001b[32m\u001b[1m Resolving\u001b[22m\u001b[39m package versions...\n",
            "\u001b[32m\u001b[1m  Updating\u001b[22m\u001b[39m `~/.julia/environments/v1.0/Project.toml`\n",
            "\u001b[90m [no changes]\u001b[39m\n",
            "\u001b[32m\u001b[1m  Updating\u001b[22m\u001b[39m `~/.julia/environments/v1.0/Manifest.toml`\n",
            "\u001b[90m [no changes]\u001b[39m\n",
            "\u001b[32m\u001b[1m Resolving\u001b[22m\u001b[39m package versions...\n",
            "\u001b[32m\u001b[1m  Updating\u001b[22m\u001b[39m `~/.julia/environments/v1.0/Project.toml`\n",
            "\u001b[90m [no changes]\u001b[39m\n",
            "\u001b[32m\u001b[1m  Updating\u001b[22m\u001b[39m `~/.julia/environments/v1.0/Manifest.toml`\n",
            "\u001b[90m [no changes]\u001b[39m\n",
            "\u001b[32m\u001b[1m Resolving\u001b[22m\u001b[39m package versions...\n",
            "\u001b[32m\u001b[1m  Updating\u001b[22m\u001b[39m `~/.julia/environments/v1.0/Project.toml`\n",
            "\u001b[90m [no changes]\u001b[39m\n",
            "\u001b[32m\u001b[1m  Updating\u001b[22m\u001b[39m `~/.julia/environments/v1.0/Manifest.toml`\n",
            "\u001b[90m [no changes]\u001b[39m\n",
            "stdin> 1000\n",
            "  1.558 s (0 allocations: 0 bytes)\n",
            "  13.112 μs (66 allocations: 2.33 KiB)\n"
          ],
          "name": "stdout"
        },
        {
          "output_type": "execute_result",
          "data": {
            "text/plain": [
              "\u001b[32m\u001b[1mTest Passed\u001b[22m\u001b[39m"
            ]
          },
          "metadata": {
            "tags": []
          },
          "execution_count": 85
        }
      ]
    },
    {
      "cell_type": "code",
      "metadata": {
        "id": "8-fH3GDuNCOr",
        "colab_type": "code",
        "colab": {}
      },
      "source": [
        ""
      ],
      "execution_count": 0,
      "outputs": []
    }
  ]
}